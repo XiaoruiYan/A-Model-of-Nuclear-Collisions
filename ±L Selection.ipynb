{
 "cells": [
  {
   "cell_type": "markdown",
   "metadata": {},
   "source": [
    "Code by Xiaorui Yang\n",
    "\n",
    "2023.08.11\n",
    "\n",
    "1. Random angle phi\n",
    "2. Random starting position (the probability is proportional to the number of collisions the participant)"
   ]
  },
  {
   "cell_type": "code",
   "execution_count": 111,
   "metadata": {},
   "outputs": [],
   "source": [
    "import pandas as pd\n",
    "import numpy as np\n",
    "import math\n",
    "from shapely.geometry import LineString, Point\n",
    "import matplotlib.pyplot as plt\n",
    "import random\n",
    "\n"
   ]
  },
  {
   "cell_type": "code",
   "execution_count": 6,
   "metadata": {},
   "outputs": [],
   "source": [
    "filename = 'Glauber_Pb_Pb_67_75000_v2 (1).txt'\n",
    "data = pd.read_csv(filename, delimiter= '\\s+', names=[\"Nucleus\", \"X-Coordinate\", \"Y-Coordinate\", \"Z-Coordinate\", \"Collision Number\", \"XXX\", \"XX\"])\n",
    "data"
   ]
  },
  {
   "cell_type": "markdown",
   "metadata": {},
   "source": [
    "75000 Angles & Starting Positions"
   ]
  },
  {
   "cell_type": "code",
   "execution_count": null,
   "metadata": {},
   "outputs": [],
   "source": [
    "\n",
    "data['Nucleus'] = pd.to_numeric(data['Nucleus'], errors='coerce')\n",
    "data_collide = data[data['Collision Number'] > 0]\n",
    "\n",
    "\n",
    "radius = 0.75\n",
    "num_intersect_minus = []\n",
    "num_intersect_plus = []\n",
    "circles, event_num = [], []\n",
    "num_part = []\n",
    "epsilon_2, epsilon_3, psi_2, psi_3, imp_prmtr = [], [], [], [], []\n",
    "length_output, start_x, start_y, collisionN_output, angle_output = [], [], [], [], []\n",
    "length_arr = []\n",
    "event_data = []\n",
    "\n",
    "\n",
    "def process_event_data(event_data, length_arr):\n",
    "    if event_data:\n",
    "\n",
    "        length = length_arr[-2]\n",
    "\n",
    "        current_event_df = pd.DataFrame(event_data[:-1]) \n",
    "        collision_numbers = current_event_df['Collision Number'].values\n",
    "        probabilities = collision_numbers / collision_numbers.sum()\n",
    "        \n",
    "        selected_row = current_event_df.sample(n=1, weights=probabilities)\n",
    "\n",
    "\n",
    "        start_coords_X = selected_row['X-Coordinate']\n",
    "        start_coords_Y = selected_row['Y-Coordinate']\n",
    "        num_c = selected_row['Collision Number']\n",
    "\n",
    "        phi = int(random.uniform(0, 180))\n",
    "        while phi == 180:\n",
    "            phi = int(random.uniform(0, 180))\n",
    "        \n",
    "        phi_rad = math.radians(phi)\n",
    "\n",
    "\n",
    "        angle_output.append(phi)\n",
    "        start_x.append(start_coords_X)\n",
    "        start_y.append(start_coords_Y)\n",
    "        collisionN_output.append(num_c)\n",
    "\n",
    "        # +L\n",
    "        x_end_above = start_coords_X + length * math.cos(phi_rad)\n",
    "        y_end_above = start_coords_Y + length * math.sin(phi_rad)\n",
    "\n",
    "        line = LineString([(start_coords_X, start_coords_Y), (x_end_above, y_end_above)])\n",
    "        count = sum(line.distance(Point(x, y)) < radius for x, y in circles)\n",
    "        num_intersect_plus.append(count)\n",
    "\n",
    "        # -L\n",
    "        x_end_below = start_coords_X - length * math.cos(phi_rad)\n",
    "        y_end_below = start_coords_Y - length * math.sin(phi_rad)\n",
    "\n",
    "        line = LineString([(start_coords_X, start_coords_Y), (x_end_below, y_end_below)])\n",
    "        count = sum(line.distance(Point(x, y)) < radius for x, y in circles)\n",
    "        num_intersect_minus.append(count)\n",
    "\n",
    "\n",
    "for index, row in data_collide.iterrows():\n",
    "    if pd.notna(row['Nucleus']):\n",
    "\n",
    "        length_arr.append(row['X-Coordinate'])  \n",
    "\n",
    "        process_event_data(event_data, length_arr)\n",
    "        \n",
    "        event_num.append(int(row['Nucleus']))\n",
    "        num_part.append(row['X-Coordinate'])\n",
    "        epsilon_2.append(row['Y-Coordinate'])\n",
    "        epsilon_3.append(row['Z-Coordinate'])\n",
    "        psi_2.append(row['Collision Number'])\n",
    "        psi_3.append(row['XXX'])\n",
    "        imp_prmtr.append(row['XX'])\n",
    "\n",
    "        event_data.clear()\n",
    "        circles.clear()\n",
    "    event_data.append(row.to_dict())\n",
    "    circles.append((row['X-Coordinate'], row['Y-Coordinate']))\n",
    "\n",
    "\n",
    "if event_data:\n",
    "    process_event_data(event_data, length_arr)\n",
    "\n",
    "\n"
   ]
  }
 ],
 "metadata": {
  "kernelspec": {
   "display_name": "base",
   "language": "python",
   "name": "python3"
  },
  "language_info": {
   "codemirror_mode": {
    "name": "ipython",
    "version": 3
   },
   "file_extension": ".py",
   "mimetype": "text/x-python",
   "name": "python",
   "nbconvert_exporter": "python",
   "pygments_lexer": "ipython3",
   "version": "3.9.12"
  },
  "orig_nbformat": 4
 },
 "nbformat": 4,
 "nbformat_minor": 2
}
